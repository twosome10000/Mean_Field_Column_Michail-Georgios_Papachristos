{
 "cells": [
  {
   "cell_type": "code",
   "execution_count": 1,
   "metadata": {
    "pycharm": {
     "name": "#%%\n"
    }
   },
   "outputs": [],
   "source": [
    "import numpy as np\n",
    "import pylab as plt\n",
    "import scipy.integrate as integrate\n",
    "import math\n",
    "from scipy.special import zetac, erf"
   ]
  },
  {
   "cell_type": "markdown",
   "metadata": {
    "pycharm": {
     "name": "#%% md\n"
    }
   },
   "source": [
    "# Mean Field Implementation of the Cortical Microcircuit\n",
    "### Table of contents\n",
    "* About this tutorial\n",
    "* Mean field approximation\n",
    "    * Fokker-Planck formalism\n",
    "    * Parameters\n",
    "    * Task 1 - Verify the equation for $K_{ij}$\n",
    "    * Define neuron model\n",
    "    * Define external inputs\n",
    "    * Task 2 - Define connectivity (number of connections and synaptic efficacy\n",
    "    * Task 3 - Perform numerical integration\n",
    "    * Evaluate results\n",
    "* References"
   ]
  },
  {
   "cell_type": "markdown",
   "metadata": {
    "pycharm": {
     "name": "#%% md\n"
    }
   },
   "source": [
    "## About this tutorial\n",
    "The objective of this tutorial is to familiarize you with mean field approximations"
   ]
  },
  {
   "cell_type": "markdown",
   "metadata": {
    "pycharm": {
     "name": "#%% md\n"
    }
   },
   "source": [
    "## Mean field approximation\n",
    "Potjans and Diesmann (2014) aggregated connectivity information of local circuits (cortical column) in early visual cortex. They subsequently used this information to simulate a network of $\\sim 80000$ leaky integrate-and-fire (LIF) neurons arranged in four layers each with an excitatory and an inhibitory pool. That is quite a feat and simulation of this circuit has led to important insights. However, simulating such a system takes a very long time unless it is performed on a supercomputer. Let's see if we can simulate a mean field approximation of the column model.\n",
    "\n",
    "<img src=\"Microcircuit.png\"> <img src=\"Raster.png\">"
   ]
  },
  {
   "cell_type": "markdown",
   "metadata": {
    "pycharm": {
     "name": "#%% md\n"
    }
   },
   "source": [
    "## Fokker-Planck formalism\n",
    "Following Schuecker et al. (2016), the stationary firing rate $\\nu_i$ of each population $i$ are given by\n",
    "\n",
    "$\\nu_i = \\Phi[ \\mu_i(t),\\sigma_i(t)] = \\{\\tau_r + \\tau_m \\sqrt{\\pi} \\int_{\\frac{V_{reset}-V_L-\\mu_i(t)}{\\sigma_i(t)} + \\gamma \\sqrt{\\frac{\\bar{\\tau_s}}{\\tau_m}}}^{\\frac{\\theta-V_L-\\mu_i(t)}{\\sigma_i(t)} + \\gamma \\sqrt{\\frac{\\bar{\\tau_s}}{\\tau_m}}} e^{x^2} (1 + erf(x))dx\\}^{-1}$\n",
    "\n",
    "where $\\gamma = \\frac{|\\zeta(\\frac{1}{2})|}{\\sqrt{2}}$, with $\\zeta$ denoting the Rieman zeta function and $erf(x) = \\frac{2}{\\sqrt{\\pi}} \\int_0^x e^{-t^2}dt$ is the error function. The mean drive $\\mu_i(t)$ as well as the diffusive noise $\\sigma_i^2(t)$ depend on recurrent and external inputs:\n",
    "\n",
    "$$\\mu_i(t) = \\tau_m (\\sum_j \\hat{K}_{ij} w_{ij} \\nu_j + K_{ext} w_{ext} \\nu_{ext})$$\n",
    "\n",
    "$$\\sigma_i^2(t) = \\tau_m (\\sum_j \\hat{K}_{ij} w_{ij}^2 \\nu_j + K_{ext} w_{ext}^2 \\nu_{ext})$$\n",
    "\n",
    "where $\\hat{K}_{ij}$ is the average number of synapses arriving at pool $i$ from pool $j$ and $w_{ij}$ is the corresponding synaptic efficacy. Note that both $\\mu$ and $\\sigma$ are in units of mV."
   ]
  },
  {
   "cell_type": "markdown",
   "metadata": {
    "pycharm": {
     "name": "#%% md\n"
    }
   },
   "source": [
    "## Parameters\n",
    "Neuron model parameters are summarized in the table below\n",
    "\n",
    "<img src=\"Parameters.png\">\n",
    "\n",
    "The following table contains information on the local circuit\n",
    "\n",
    "<img src=\"Network.png\">\n",
    "\n",
    "The connectivity is given in terms of probabilities that a neuron in the target population receives a synapse from the source population. The equation for this probability is given by\n",
    "\n",
    "$$P_{ij} = 1 - (1 - \\frac{1}{N^j N^i})^{K_{ij}}$$\n",
    "\n",
    "where $K_{ij}$ is the number of synapses from population $j$ to population $i$ and $N^j$ and $N^i$ are the number of pre- and postsynaptic neurons, respectively. The number of synapses is correspondingly given by\n",
    "\n",
    "$$K_{ij} = \\frac{ln(1-P_{ij})}{ln(1 - \\frac{1}{N^j N^i})}$$"
   ]
  },
  {
   "cell_type": "markdown",
   "metadata": {
    "pycharm": {
     "name": "#%% md\n"
    },
    "tags": []
   },
   "source": [
    "## Task 1 - Verify the equation for $K_{ij}$ - (33 points)\n",
    "\n",
    "Solve $P_{ij} = 1 - (1 - \\frac{1}{N^j N^i})^{K_{ij}}$ for $K_{ij}$."
   ]
  },
  {
   "cell_type": "markdown",
   "metadata": {
    "tags": []
   },
   "source": [
    "\\begin{equation}\n",
    "P_{ij} = 1 - (1 - \\frac{1}{N^j N^i})^{K_{ij}}\n",
    "\\end{equation}\n",
    "\n",
    "Rearranging gives:\n",
    "\n",
    "\\begin{equation}\n",
    "(1 - \\frac{1}{N^j N^i})^{K_{ij}} = 1 - P_{ij}\n",
    "\\end{equation}\n",
    "\n",
    "We can take the natural logarithm of both sides of the equation:\n",
    "\n",
    "\\begin{equation}\n",
    "ln(1 - \\frac{1}{N^j N^i})^{K_{ij}} = ln(1 - P_{ij})\n",
    "\\end{equation}\n",
    "\n",
    "We also know that $ln(x^y) = y \\cdot ln(x)$ therefore:\n",
    "\n",
    "\\begin{equation}\n",
    "{K_{ij}} \\cdot ln(1 - \\frac{1}{N^j N^i}) = ln(1 - P_{ij})\n",
    "\\end{equation}\n",
    "\n",
    "Finally, dividing both sides by $ln(1 - \\frac{1}{N^j N^i})$ gives:\n",
    "\n",
    "\\begin{equation}\n",
    "K_{ij} = \\frac{ln(1-P_{ij})}{ln(1 - \\frac{1}{N^j N^i})}\n",
    "\\end{equation}"
   ]
  },
  {
   "cell_type": "code",
   "execution_count": 2,
   "metadata": {
    "pycharm": {
     "name": "#%%\n"
    }
   },
   "outputs": [],
   "source": [
    "# Define neuron model\n",
    "J = 87.8        # synaptic strength (pA)\n",
    "g = -4          # relative inhibitory synaptic strength\n",
    "tau_s = 0.5e-3  # postsynaptic current time constant (s)\n",
    "tau_m = 10e-3   # membrane time constant (s)\n",
    "tau_r = 2e-3    # refractory period\n",
    "C_m = 250       # membrane capacitance (pF)\n",
    "V_reset = -65   # reset potential (mV)\n",
    "V_L = -65       # leak potential (mV)\n",
    "theta = -50     # threshold potential (mV)\n",
    "\n",
    "# Define external inputs\n",
    "K_ext = np.array(   # number of external connections\n",
    "    [1600, 1500, 2100, 1900, 2000, 1900, 2900, 2100])\n",
    "\n",
    "nu_ext = 8  # firing rate per connection (Hz)"
   ]
  },
  {
   "cell_type": "markdown",
   "metadata": {
    "pycharm": {
     "name": "#%% md\n"
    }
   },
   "source": [
    "## Task 2 - Define connectivity (number of connections $K$ and synaptic efficacy $W$ - 34 points)\n",
    "Note that synaptic strength and synaptic efficacy are not the same. You will need to calculate $W$ bassed on other information you have. You also need to calculate the number of connections $K_{ij}$ between pools $i$ and $j$. Importantly, we are interested in the total number of connections received by pool $i$ from pool $j$, not in the number of connections received per neuron in pool $i$!"
   ]
  },
  {
   "cell_type": "markdown",
   "metadata": {},
   "source": [
    "We know that the excitatory synaptic strength is:\n",
    "\n",
    "$J = 87.8\\,pA = 8.78 \\cdot 10^{-11} A$\n",
    "\n",
    "Furthermore, the membrane time constant is:\n",
    "\n",
    "$\\tau_m = 10\\,ms = 0.01\\,s$\n",
    "\n",
    "The membrane capacitance is:\n",
    "\n",
    "$C_m = 250\\,pF = 2.5 \\cdot 10^{-10} F$\n",
    "\n",
    "By knowing $\\tau_m$ and $C_m$ we can calculate the membrane resistance $R_m$ by this equation:\n",
    "\n",
    "$\\tau_m = R_m \\cdot C_m \\iff R_m = \\frac{\\tau_m}{C_m} \\; (1)$\n",
    "\n",
    "From Ohm's Law we have:\n",
    "\n",
    "$W_{exc} = J \\cdot R_m \\; (2)$\n",
    "\n",
    "Combining $(1)$ and $(2)$ together we can calculate $W_{exc}$ :\n",
    "\n",
    "$W_{exc} = J \\cdot \\frac{\\tau_m}{C_m} = 8.78 \\cdot 10^{-11} A \\cdot \\frac{0.01\\,s}{2.5 \\cdot 10^{-10} F} = 0.003512\\,V = 3.512\\,mV$\n",
    "\n",
    "Finally, since we know that the relative inhibitory synaptic strength $g = -4$ then:\n",
    "\n",
    "$W_{inh} = g \\cdot W_{exc} = -14.048\\,mV$\n",
    "\n"
   ]
  },
  {
   "cell_type": "code",
   "execution_count": 3,
   "metadata": {
    "pycharm": {
     "is_executing": true,
     "name": "#%%\n"
    }
   },
   "outputs": [],
   "source": [
    "N = np.array(    # number of neurons\n",
    "    [20683, 5834, 21915, 5479, 4850, 1065, 14395, 2948])\n",
    "P = np.array(   # connection probability\n",
    "    [[0.101, 0.169, 0.044, 0.082, 0.032, 0.0,    0.008, 0.0],\n",
    "    [0.135,  0.137, 0.032, 0.052, 0.075, 0.0,    0.004, 0.0],\n",
    "    [0.008,  0.006, 0.050, 0.135, 0.007, 0.0003, 0.045, 0.0],\n",
    "    [0.069,  0.003, 0.079, 0.160, 0.003, 0.0,    0.106, 0.0],\n",
    "    [0.100,  0.062, 0.051, 0.006, 0.083, 0.373,  0.020, 0.0],\n",
    "    [0.055,  0.027, 0.026, 0.002, 0.060, 0.316,  0.009, 0.0],\n",
    "    [0.016,  0.007, 0.021, 0.017, 0.057, 0.020,  0.040, 0.225],\n",
    "    [0.036,  0.001, 0.003, 0.001, 0.028, 0.008,  0.066, 0.144]])\n",
    "\n",
    "K_hat = np.zeros((len(P), len(P)))\n",
    "\n",
    "for i in range(len(P)):\n",
    "    for j in range(len(P)):\n",
    "        K_hat[i, j] = np.log(1 - P[i, j])/np.log(1 - (1/(N[i]*N[j])))\n",
    "\n",
    "W_exc = (J*(10^(-12)))*((tau_m)/(C_m*(10^(-12))))*1000    #in mV, as calculated above\n",
    "W_inh = g*W_exc                                           #in mV, as calculated above\n",
    "\n",
    "W_ext = W_exc                        # external input (excitatory)\n",
    "W_rec = np.tile([W_exc,W_inh],[8,4]) # recurrent synaptic connectivity matrix"
   ]
  },
  {
   "cell_type": "markdown",
   "metadata": {
    "pycharm": {
     "name": "#%% md\n"
    }
   },
   "source": [
    "## Task 3 - Perform numererical integration - 33 points\n",
    "We can now finally find the stationary firing rates of all interacting pools by numerically integrating $\\dot{\\nu}_i = -\\nu_i + \\Phi[ \\mu_i(t), \\sigma_i(t) ]$. You can use the forward Euler method with a timestep $\\Delta t = 0.001$ to do so. Make sure to simulate sufficiently many time steps for the system to reach equilibrium ($\\sim 5000$ should do the trick). You do not need to define the activation function $\\Phi$, it comes with the materials for this tutorial (phi.py)."
   ]
  },
  {
   "cell_type": "code",
   "execution_count": 4,
   "metadata": {
    "pycharm": {
     "name": "#%%\n"
    }
   },
   "outputs": [
    {
     "name": "stderr",
     "output_type": "stream",
     "text": [
      "/tmp/ipykernel_19864/946251522.py:32: RuntimeWarning: overflow encountered in exp\n",
      "  integral, err = integrate.quad(lambda x: np.exp(x**2) * (1 + erf(x)), lower, upper)\n",
      "/tmp/ipykernel_19864/946251522.py:32: RuntimeWarning: invalid value encountered in double_scalars\n",
      "  integral, err = integrate.quad(lambda x: np.exp(x**2) * (1 + erf(x)), lower, upper)\n",
      "/tmp/ipykernel_19864/946251522.py:32: IntegrationWarning: The occurrence of roundoff error is detected, which prevents \n",
      "  the requested tolerance from being achieved.  The error may be \n",
      "  underestimated.\n",
      "  integral, err = integrate.quad(lambda x: np.exp(x**2) * (1 + erf(x)), lower, upper)\n",
      "/tmp/ipykernel_19864/946251522.py:32: IntegrationWarning: The maximum number of subdivisions (50) has been achieved.\n",
      "  If increasing the limit yields no improvement it is advised to analyze \n",
      "  the integrand in order to determine the difficulties.  If the position of a \n",
      "  local difficulty can be determined (singularity, discontinuity) one will \n",
      "  probably gain from splitting up the interval and calling the integrator \n",
      "  on the subranges.  Perhaps a special-purpose integrator should be used.\n",
      "  integral, err = integrate.quad(lambda x: np.exp(x**2) * (1 + erf(x)), lower, upper)\n",
      "/tmp/ipykernel_19864/946251522.py:32: IntegrationWarning: Extremely bad integrand behavior occurs at some points of the\n",
      "  integration interval.\n",
      "  integral, err = integrate.quad(lambda x: np.exp(x**2) * (1 + erf(x)), lower, upper)\n",
      "/tmp/ipykernel_19864/946251522.py:32: RuntimeWarning: overflow encountered in double_scalars\n",
      "  integral, err = integrate.quad(lambda x: np.exp(x**2) * (1 + erf(x)), lower, upper)\n"
     ]
    }
   ],
   "source": [
    "#I was getting some issues with the phi function, so I did not end up using it. \n",
    "#I defined the activation function in this cell based on the phi function, while also altering some things so the integration would work.\n",
    "\n",
    "dt = 0.001\n",
    "steps = 5000\n",
    "\n",
    "gamma = abs(zetac(0.5))/np.sqrt(2)\n",
    "s_tau = np.sqrt(tau_s/tau_m)\n",
    "\n",
    "vt = np.zeros(len(P))\n",
    "vt_minus1 = np.zeros(len(P))\n",
    "miu = np.zeros(len(P))\n",
    "sigma_squared = np.zeros(len(P))\n",
    "sigma = np.zeros(len(P))\n",
    "vt_dynam = np.zeros((len(P), steps))\n",
    "dV = np.zeros(len(P))\n",
    "j = 0\n",
    "f = np.zeros(len(P))\n",
    "\n",
    "ran = [x*dt for x in range(0, steps)]\n",
    "\n",
    "for k in ran:\n",
    "    \n",
    "    for i in range(len(P)):\n",
    "        miu[i] = tau_m*(np.sum(K_hat[i,:]*W_rec[i,:]*vt_minus1[i]) + (K_ext[i]*W_ext*nu_ext))\n",
    "        sigma_squared[i] = tau_m*(np.sum(K_hat[i,:]*W_rec[i,:]*W_rec[i,:]*vt_minus1[i]) + (K_ext[i]*((W_ext)**2)*nu_ext))\n",
    "        sigma[i] = np.sqrt(sigma_squared[i])\n",
    "    \n",
    "    for n in range(len(P)):        \n",
    "        lower = ((V_reset - V_L - miu[n])/sigma[n]) + gamma*s_tau\n",
    "        upper = ((theta - V_L - miu[n])/sigma[n]) + gamma*s_tau\n",
    "        integral, err = integrate.quad(lambda x: np.exp(x**2) * (1 + erf(x)), lower, upper)\n",
    "        if math.isnan(integral) == 1:\n",
    "            integral = math.inf   #if integral returns an error, then set integral to infinity\n",
    "        f[n] = (tau_r + tau_m * np.sqrt(np.pi) * integral)**-1\n",
    "        \n",
    "    dV = -vt_minus1 + f\n",
    "    vt = vt_minus1 + dV*dt\n",
    "    vt_dynam[:,j] = vt\n",
    "    vt_minus1 = vt\n",
    "    j += 1"
   ]
  },
  {
   "cell_type": "markdown",
   "metadata": {
    "pycharm": {
     "name": "#%% md\n"
    }
   },
   "source": [
    "## Evaluate results\n",
    "As a last step, we need to check if the mean firing rates we obtained using the mean field approximation look anything like the results Potjans & Diesmann (2014) obtained when simulating their full model. Assuming that you called the firing rate variable keeping track of the firing rates $\\nu$ and that pools are along its rows and time along its columns, the following code plots bar graphs showing the firing rate in all pools."
   ]
  },
  {
   "cell_type": "code",
   "execution_count": 5,
   "metadata": {
    "pycharm": {
     "is_executing": true,
     "name": "#%%\n"
    }
   },
   "outputs": [
    {
     "data": {
      "image/png": "[encoded data removed]",
      "text/plain": [
       "<Figure size 432x288 with 1 Axes>"
      ]
     },
     "metadata": {
      "needs_background": "light"
     },
     "output_type": "display_data"
    }
   ],
   "source": [
    "#It should be mentioned that the firing rates are plotted in a logarithmic scale.\n",
    "plt.figure()\n",
    "plt.barh(y = [7,6,5,4,3,2,1,0], width= vt_dynam[:,steps-1], color = [\"black\", \"grey\", \"black\", \"grey\", \"black\", \"grey\", \"black\", \"grey\"], log = 1)\n",
    "plt.yticks([6.5, 4.5, 2.5, 0.5], labels=['L2/3', 'L4', 'L5', 'L6'])\n",
    "plt.xlabel(\"firing rates [Hz](log-scale)\")\n",
    "plt.show()"
   ]
  },
  {
   "cell_type": "markdown",
   "metadata": {
    "pycharm": {
     "name": "#%% md\n"
    }
   },
   "source": [
    "Compare this to the mean firing rates observed by Potjans & Diesmann (2014)\n",
    "\n",
    "<img src=\"Rates.png\">"
   ]
  },
  {
   "cell_type": "markdown",
   "metadata": {
    "pycharm": {
     "name": "#%% md\n"
    }
   },
   "source": [
    "## References\n",
    "* Potjans TC, Diesmann M. The cell-type specific cortical microcircuit: relating structure and activity in a full-scale spiking network model. Cereb Cortex. 2014 Mar;24(3):785-806. doi: 10.1093/cercor/bhs358. Epub 2012 Dec 2. PMID: 23203991; PMCID: PMC3920768\n",
    "* Schuecker, J., Schmidt, M., van Albada, S. J., Diesmann, M., & Helias, M. (2017). Fundamental Activity Constraints Lead to Specific Interpretations of the Connectome. PLOS Computational Biology, 13(2), e1005179. https://doi.org/10.1371/journal.pcbi.1005179"
   ]
  }
 ],
 "metadata": {
  "kernelspec": {
   "display_name": "Python 3 (ipykernel)",
   "language": "python",
   "name": "python3"
  },
  "language_info": {
   "codemirror_mode": {
    "name": "ipython",
    "version": 3
   },
   "file_extension": ".py",
   "mimetype": "text/x-python",
   "name": "python",
   "nbconvert_exporter": "python",
   "pygments_lexer": "ipython3",
   "version": "3.9.12"
  }
 },
 "nbformat": 4,
 "nbformat_minor": 4
}
